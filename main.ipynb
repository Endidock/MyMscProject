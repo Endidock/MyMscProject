{
 "cells": [
  {
   "cell_type": "code",
   "execution_count": 120,
   "metadata": {},
   "outputs": [
    {
     "name": "stdout",
     "output_type": "stream",
     "text": [
      "Finished!\n"
     ]
    }
   ],
   "source": [
    "import seaborn as sns\n",
    "import matplotlib.pyplot as plt\n",
    "from sklearn.pipeline import make_pipeline\n",
    "from sklearn.naive_bayes import MultinomialNB\n",
    "import os\n",
    "import numpy as np\n",
    "import pandas as pd\n",
    "from sklearn.feature_extraction.text import TfidfVectorizer\n",
    "import re\n",
    "import string\n",
    "from nltk.corpus import stopwords\n",
    "import nltk\n",
    "from nltk.corpus import wordnet\n",
    "from nltk.stem import WordNetLemmatizer\n",
    "from sklearn.model_selection import train_test_split\n",
    "from sklearn.decomposition import NMF, LatentDirichletAllocation\n",
    "from pprint import pprint\n",
    "from time import time\n",
    "# from sklearn.ensemble import RandomForestClassifier\n",
    "from sklearn.metrics import precision_score, recall_score, accuracy_score,roc_auc_score\n",
    "import seaborn as sns\n",
    "from sklearn.metrics import confusion_matrix\n",
    "import matplotlib.pyplot as plt\n",
    "import matplotlib\n",
    "# import keras\n",
    "sns.set(style='whitegrid', palette='muted', font_scale=1.2)\n",
    "colors = [\"#01BEFE\", \"#FFDD00\", \"#FF7D00\", \"#FF006D\", \"#ADFF02\", \"#8F00FF\"]\n",
    "sns.set_palette(sns.color_palette(colors))\n",
    "matplotlib.rcParams['figure.figsize'] = 12, 8\n",
    "\n",
    "\n",
    "%matplotlib inline\n",
    "sns.set()\n",
    "print(\"Finished!\")\n"
   ]
  },
  {
   "cell_type": "markdown",
   "metadata": {},
   "source": [
    "## Import and clean the data for topic modelling"
   ]
  },
  {
   "cell_type": "code",
   "execution_count": 122,
   "metadata": {},
   "outputs": [
    {
     "data": {
      "text/html": [
       "<div>\n",
       "<style scoped>\n",
       "    .dataframe tbody tr th:only-of-type {\n",
       "        vertical-align: middle;\n",
       "    }\n",
       "\n",
       "    .dataframe tbody tr th {\n",
       "        vertical-align: top;\n",
       "    }\n",
       "\n",
       "    .dataframe thead th {\n",
       "        text-align: right;\n",
       "    }\n",
       "</style>\n",
       "<table border=\"1\" class=\"dataframe\">\n",
       "  <thead>\n",
       "    <tr style=\"text-align: right;\">\n",
       "      <th></th>\n",
       "      <th>Comments Text</th>\n",
       "    </tr>\n",
       "  </thead>\n",
       "  <tbody>\n",
       "    <tr>\n",
       "      <th>0</th>\n",
       "      <td>So, when you ask what the two illnesses are......</td>\n",
       "    </tr>\n",
       "    <tr>\n",
       "      <th>1</th>\n",
       "      <td>In addition, people with BPD quite often have ...</td>\n",
       "    </tr>\n",
       "    <tr>\n",
       "      <th>2</th>\n",
       "      <td>Borderline Personality Disorder, like all othe...</td>\n",
       "    </tr>\n",
       "    <tr>\n",
       "      <th>3</th>\n",
       "      <td>LONG ANSWER: Bipolar disease is caused by a ch...</td>\n",
       "    </tr>\n",
       "    <tr>\n",
       "      <th>4</th>\n",
       "      <td>Well think of bipolar as a rollar coaster you ...</td>\n",
       "    </tr>\n",
       "  </tbody>\n",
       "</table>\n",
       "</div>"
      ],
      "text/plain": [
       "                                       Comments Text\n",
       "0  So, when you ask what the two illnesses are......\n",
       "1  In addition, people with BPD quite often have ...\n",
       "2  Borderline Personality Disorder, like all othe...\n",
       "3  LONG ANSWER: Bipolar disease is caused by a ch...\n",
       "4  Well think of bipolar as a rollar coaster you ..."
      ]
     },
     "execution_count": 122,
     "metadata": {},
     "output_type": "execute_result"
    }
   ],
   "source": [
    "df_main = pd.read_excel(\"depression.xlsx\")\n",
    "df_main.head()"
   ]
  },
  {
   "cell_type": "code",
   "execution_count": 123,
   "metadata": {},
   "outputs": [
    {
     "data": {
      "text/plain": [
       "Comments Text    0\n",
       "dtype: int64"
      ]
     },
     "execution_count": 123,
     "metadata": {},
     "output_type": "execute_result"
    }
   ],
   "source": [
    "# Issue is we can not just model by topic we need to classify ..... \n",
    "# What happens if we use not depressed  ? \n",
    "df_main.isnull().sum()"
   ]
  },
  {
   "cell_type": "code",
   "execution_count": 124,
   "metadata": {},
   "outputs": [
    {
     "data": {
      "text/html": [
       "<div>\n",
       "<style scoped>\n",
       "    .dataframe tbody tr th:only-of-type {\n",
       "        vertical-align: middle;\n",
       "    }\n",
       "\n",
       "    .dataframe tbody tr th {\n",
       "        vertical-align: top;\n",
       "    }\n",
       "\n",
       "    .dataframe thead th {\n",
       "        text-align: right;\n",
       "    }\n",
       "</style>\n",
       "<table border=\"1\" class=\"dataframe\">\n",
       "  <thead>\n",
       "    <tr style=\"text-align: right;\">\n",
       "      <th></th>\n",
       "      <th>Comments Text</th>\n",
       "    </tr>\n",
       "  </thead>\n",
       "  <tbody>\n",
       "    <tr>\n",
       "      <th>0</th>\n",
       "      <td>So, when you ask what the two illnesses are......</td>\n",
       "    </tr>\n",
       "    <tr>\n",
       "      <th>1</th>\n",
       "      <td>In addition, people with BPD quite often have ...</td>\n",
       "    </tr>\n",
       "    <tr>\n",
       "      <th>2</th>\n",
       "      <td>Borderline Personality Disorder, like all othe...</td>\n",
       "    </tr>\n",
       "    <tr>\n",
       "      <th>3</th>\n",
       "      <td>LONG ANSWER: Bipolar disease is caused by a ch...</td>\n",
       "    </tr>\n",
       "    <tr>\n",
       "      <th>4</th>\n",
       "      <td>Well think of bipolar as a rollar coaster you ...</td>\n",
       "    </tr>\n",
       "  </tbody>\n",
       "</table>\n",
       "</div>"
      ],
      "text/plain": [
       "                                       Comments Text\n",
       "0  So, when you ask what the two illnesses are......\n",
       "1  In addition, people with BPD quite often have ...\n",
       "2  Borderline Personality Disorder, like all othe...\n",
       "3  LONG ANSWER: Bipolar disease is caused by a ch...\n",
       "4  Well think of bipolar as a rollar coaster you ..."
      ]
     },
     "execution_count": 124,
     "metadata": {},
     "output_type": "execute_result"
    }
   ],
   "source": [
    "df_main.head()"
   ]
  },
  {
   "cell_type": "markdown",
   "metadata": {},
   "source": [
    "General steps to be taken for cleaning data..............\n",
    "Remove URLs\n",
    "Remove emails\n",
    "Lowercase all text\n",
    "Remove punctuation signs\n",
    "Remove stop words\n",
    "Lemmatize text"
   ]
  },
  {
   "cell_type": "code",
   "execution_count": 125,
   "metadata": {},
   "outputs": [],
   "source": [
    "#Removing URLs with a regular expression\n",
    "def clean_comments(comment: str):\n",
    "    url_pattern = re.compile(r'https?://\\S+|www\\.\\S+')\n",
    "    url_removed =  url_pattern.sub(r'', comment)\n",
    "    at_removed = re.sub('\\S*@\\S*\\s?', '', url_removed)\n",
    "    new_line_removed = re.sub('\\s+', ' ', at_removed)\n",
    "    quote_removed = re.sub(\"\\'\", \"\", new_line_removed)\n",
    "    return quote_removed\n",
    "\n",
    "df_main[\"Comments Text\"] = df_main[\"Comments Text\"].apply(clean_comments)"
   ]
  },
  {
   "cell_type": "code",
   "execution_count": 126,
   "metadata": {},
   "outputs": [
    {
     "data": {
      "text/html": [
       "<div>\n",
       "<style scoped>\n",
       "    .dataframe tbody tr th:only-of-type {\n",
       "        vertical-align: middle;\n",
       "    }\n",
       "\n",
       "    .dataframe tbody tr th {\n",
       "        vertical-align: top;\n",
       "    }\n",
       "\n",
       "    .dataframe thead th {\n",
       "        text-align: right;\n",
       "    }\n",
       "</style>\n",
       "<table border=\"1\" class=\"dataframe\">\n",
       "  <thead>\n",
       "    <tr style=\"text-align: right;\">\n",
       "      <th></th>\n",
       "      <th>Comments Text</th>\n",
       "    </tr>\n",
       "  </thead>\n",
       "  <tbody>\n",
       "    <tr>\n",
       "      <th>0</th>\n",
       "      <td>So, when you ask what the two illnesses are......</td>\n",
       "    </tr>\n",
       "    <tr>\n",
       "      <th>1</th>\n",
       "      <td>In addition, people with BPD quite often have ...</td>\n",
       "    </tr>\n",
       "    <tr>\n",
       "      <th>2</th>\n",
       "      <td>Borderline Personality Disorder, like all othe...</td>\n",
       "    </tr>\n",
       "    <tr>\n",
       "      <th>3</th>\n",
       "      <td>LONG ANSWER: Bipolar disease is caused by a ch...</td>\n",
       "    </tr>\n",
       "    <tr>\n",
       "      <th>4</th>\n",
       "      <td>Well think of bipolar as a rollar coaster you ...</td>\n",
       "    </tr>\n",
       "  </tbody>\n",
       "</table>\n",
       "</div>"
      ],
      "text/plain": [
       "                                       Comments Text\n",
       "0  So, when you ask what the two illnesses are......\n",
       "1  In addition, people with BPD quite often have ...\n",
       "2  Borderline Personality Disorder, like all othe...\n",
       "3  LONG ANSWER: Bipolar disease is caused by a ch...\n",
       "4  Well think of bipolar as a rollar coaster you ..."
      ]
     },
     "execution_count": 126,
     "metadata": {},
     "output_type": "execute_result"
    }
   ],
   "source": [
    "df_main.head()"
   ]
  },
  {
   "cell_type": "markdown",
   "metadata": {},
   "source": [
    "## Visualizing the first comment to see what it looks like "
   ]
  },
  {
   "cell_type": "code",
   "execution_count": 127,
   "metadata": {},
   "outputs": [
    {
     "data": {
      "text/plain": [
       "'So, when you ask what the two illnesses are...theyre similar in that they tend to have moodiness involved, impulsivity and self-damaging behaviors for compensatory measures. Otherwise, theyre not really that similar, but they do seem to \"like\" one another and often show up in the same person...making their lives chaotic, difficult, dysfunctional, and intense. So, if your friend is concerned that they may have one (or both) of these illnesses, they should not be ashamed. Its definitely not their fault. They should, instead, get help from a professional...and INSIST that they are treated appropriately with the correct types of therapy and medication.'"
      ]
     },
     "execution_count": 127,
     "metadata": {},
     "output_type": "execute_result"
    }
   ],
   "source": [
    "df_main[\"Comments Text\"][0]"
   ]
  },
  {
   "cell_type": "code",
   "execution_count": 128,
   "metadata": {},
   "outputs": [
    {
     "data": {
      "text/plain": [
       "7145"
      ]
     },
     "execution_count": 128,
     "metadata": {},
     "output_type": "execute_result"
    }
   ],
   "source": [
    "len(df_main)"
   ]
  },
  {
   "cell_type": "markdown",
   "metadata": {},
   "source": [
    "## Start of topic modelling \n",
    "\n",
    "First we do vectorization and then we use NMF  for topic modelling. "
   ]
  },
  {
   "cell_type": "code",
   "execution_count": 130,
   "metadata": {},
   "outputs": [],
   "source": [
    "tfidvector = TfidfVectorizer( min_df=0.05, stop_words=\"english\")"
   ]
  },
  {
   "cell_type": "code",
   "execution_count": 131,
   "metadata": {},
   "outputs": [],
   "source": [
    "tfidf_matrix = tfidvector.fit_transform(df_main[\"Comments Text\"])"
   ]
  },
  {
   "cell_type": "code",
   "execution_count": 132,
   "metadata": {},
   "outputs": [
    {
     "data": {
      "text/plain": [
       "<7145x68 sparse matrix of type '<class 'numpy.float64'>'\n",
       "\twith 48375 stored elements in Compressed Sparse Row format>"
      ]
     },
     "execution_count": 132,
     "metadata": {},
     "output_type": "execute_result"
    }
   ],
   "source": [
    "tfidf_matrix"
   ]
  },
  {
   "cell_type": "code",
   "execution_count": 133,
   "metadata": {},
   "outputs": [],
   "source": [
    "no_of_topics = 2\n",
    "nmf_model = NMF(n_components=no_of_topics)"
   ]
  },
  {
   "cell_type": "code",
   "execution_count": 134,
   "metadata": {},
   "outputs": [
    {
     "data": {
      "text/html": [
       "<style>#sk-container-id-3 {color: black;background-color: white;}#sk-container-id-3 pre{padding: 0;}#sk-container-id-3 div.sk-toggleable {background-color: white;}#sk-container-id-3 label.sk-toggleable__label {cursor: pointer;display: block;width: 100%;margin-bottom: 0;padding: 0.3em;box-sizing: border-box;text-align: center;}#sk-container-id-3 label.sk-toggleable__label-arrow:before {content: \"▸\";float: left;margin-right: 0.25em;color: #696969;}#sk-container-id-3 label.sk-toggleable__label-arrow:hover:before {color: black;}#sk-container-id-3 div.sk-estimator:hover label.sk-toggleable__label-arrow:before {color: black;}#sk-container-id-3 div.sk-toggleable__content {max-height: 0;max-width: 0;overflow: hidden;text-align: left;background-color: #f0f8ff;}#sk-container-id-3 div.sk-toggleable__content pre {margin: 0.2em;color: black;border-radius: 0.25em;background-color: #f0f8ff;}#sk-container-id-3 input.sk-toggleable__control:checked~div.sk-toggleable__content {max-height: 200px;max-width: 100%;overflow: auto;}#sk-container-id-3 input.sk-toggleable__control:checked~label.sk-toggleable__label-arrow:before {content: \"▾\";}#sk-container-id-3 div.sk-estimator input.sk-toggleable__control:checked~label.sk-toggleable__label {background-color: #d4ebff;}#sk-container-id-3 div.sk-label input.sk-toggleable__control:checked~label.sk-toggleable__label {background-color: #d4ebff;}#sk-container-id-3 input.sk-hidden--visually {border: 0;clip: rect(1px 1px 1px 1px);clip: rect(1px, 1px, 1px, 1px);height: 1px;margin: -1px;overflow: hidden;padding: 0;position: absolute;width: 1px;}#sk-container-id-3 div.sk-estimator {font-family: monospace;background-color: #f0f8ff;border: 1px dotted black;border-radius: 0.25em;box-sizing: border-box;margin-bottom: 0.5em;}#sk-container-id-3 div.sk-estimator:hover {background-color: #d4ebff;}#sk-container-id-3 div.sk-parallel-item::after {content: \"\";width: 100%;border-bottom: 1px solid gray;flex-grow: 1;}#sk-container-id-3 div.sk-label:hover label.sk-toggleable__label {background-color: #d4ebff;}#sk-container-id-3 div.sk-serial::before {content: \"\";position: absolute;border-left: 1px solid gray;box-sizing: border-box;top: 0;bottom: 0;left: 50%;z-index: 0;}#sk-container-id-3 div.sk-serial {display: flex;flex-direction: column;align-items: center;background-color: white;padding-right: 0.2em;padding-left: 0.2em;position: relative;}#sk-container-id-3 div.sk-item {position: relative;z-index: 1;}#sk-container-id-3 div.sk-parallel {display: flex;align-items: stretch;justify-content: center;background-color: white;position: relative;}#sk-container-id-3 div.sk-item::before, #sk-container-id-3 div.sk-parallel-item::before {content: \"\";position: absolute;border-left: 1px solid gray;box-sizing: border-box;top: 0;bottom: 0;left: 50%;z-index: -1;}#sk-container-id-3 div.sk-parallel-item {display: flex;flex-direction: column;z-index: 1;position: relative;background-color: white;}#sk-container-id-3 div.sk-parallel-item:first-child::after {align-self: flex-end;width: 50%;}#sk-container-id-3 div.sk-parallel-item:last-child::after {align-self: flex-start;width: 50%;}#sk-container-id-3 div.sk-parallel-item:only-child::after {width: 0;}#sk-container-id-3 div.sk-dashed-wrapped {border: 1px dashed gray;margin: 0 0.4em 0.5em 0.4em;box-sizing: border-box;padding-bottom: 0.4em;background-color: white;}#sk-container-id-3 div.sk-label label {font-family: monospace;font-weight: bold;display: inline-block;line-height: 1.2em;}#sk-container-id-3 div.sk-label-container {text-align: center;}#sk-container-id-3 div.sk-container {/* jupyter's `normalize.less` sets `[hidden] { display: none; }` but bootstrap.min.css set `[hidden] { display: none !important; }` so we also need the `!important` here to be able to override the default hidden behavior on the sphinx rendered scikit-learn.org. See: https://github.com/scikit-learn/scikit-learn/issues/21755 */display: inline-block !important;position: relative;}#sk-container-id-3 div.sk-text-repr-fallback {display: none;}</style><div id=\"sk-container-id-3\" class=\"sk-top-container\"><div class=\"sk-text-repr-fallback\"><pre>NMF(n_components=2)</pre><b>In a Jupyter environment, please rerun this cell to show the HTML representation or trust the notebook. <br />On GitHub, the HTML representation is unable to render, please try loading this page with nbviewer.org.</b></div><div class=\"sk-container\" hidden><div class=\"sk-item\"><div class=\"sk-estimator sk-toggleable\"><input class=\"sk-toggleable__control sk-hidden--visually\" id=\"sk-estimator-id-3\" type=\"checkbox\" checked><label for=\"sk-estimator-id-3\" class=\"sk-toggleable__label sk-toggleable__label-arrow\">NMF</label><div class=\"sk-toggleable__content\"><pre>NMF(n_components=2)</pre></div></div></div></div></div>"
      ],
      "text/plain": [
       "NMF(n_components=2)"
      ]
     },
     "execution_count": 134,
     "metadata": {},
     "output_type": "execute_result"
    }
   ],
   "source": [
    "nmf_model.fit(tfidf_matrix)"
   ]
  },
  {
   "cell_type": "code",
   "execution_count": 135,
   "metadata": {},
   "outputs": [
    {
     "name": "stderr",
     "output_type": "stream",
     "text": [
      "c:\\Users\\HP\\AppData\\Local\\Programs\\Python\\Python310\\lib\\site-packages\\sklearn\\utils\\deprecation.py:87: FutureWarning: Function get_feature_names is deprecated; get_feature_names is deprecated in 1.0 and will be removed in 1.2. Please use get_feature_names_out instead.\n",
      "  warnings.warn(msg, category=FutureWarning)\n"
     ]
    },
    {
     "data": {
      "text/plain": [
       "68"
      ]
     },
     "execution_count": 135,
     "metadata": {},
     "output_type": "execute_result"
    }
   ],
   "source": [
    "len(tfidvector.get_feature_names())"
   ]
  },
  {
   "cell_type": "code",
   "execution_count": 136,
   "metadata": {},
   "outputs": [
    {
     "name": "stdout",
     "output_type": "stream",
     "text": [
      "[0.         0.45949885 0.4924374  0.67182178 0.48526272 0.36811057\n",
      " 0.82102488 0.41181765 0.23807703 0.37863069 0.35347948 0.36746307\n",
      " 0.23370181 0.4382329  0.37245787 1.65312616 0.38583053 1.25248722\n",
      " 0.46425797 0.73251831 0.81351336 0.4374257  0.57081009 0.39291697\n",
      " 1.18624016 0.30785967 0.41803434 0.41189258 0.44557016 2.31181377\n",
      " 0.89846281 1.72062072 1.16322243 0.38643249 0.93097205 1.24806478\n",
      " 0.42004251 0.479772   0.62819133 0.40967937 1.01170683 0.55874284\n",
      " 0.89404632 0.2322412  1.06548175 0.39074567 0.75948199 0.60897228\n",
      " 0.48801191 0.31757174 0.50662607 0.40824923 0.49392035 0.41982659\n",
      " 0.46216658 0.45729599 0.71910121 0.73507502 0.98843728 0.42585251\n",
      " 0.67734627 0.51858562 0.70659029 0.63069107 0.61305466 0.69026894\n",
      " 0.31572536 0.42952251]\n",
      "[3.77016318e+00 1.25168170e-01 3.13757561e-02 6.99023364e-03\n",
      " 9.37697456e-01 0.00000000e+00 6.06952748e-02 3.81392187e-02\n",
      " 1.62418039e+00 4.79657901e-02 6.80708874e-02 7.61359964e-02\n",
      " 4.14973488e-01 7.96368052e-02 2.87070440e-02 0.00000000e+00\n",
      " 0.00000000e+00 0.00000000e+00 0.00000000e+00 0.00000000e+00\n",
      " 1.02607209e-01 5.65449057e-02 8.47450585e-03 3.33986161e-02\n",
      " 8.51219397e-02 2.41376125e-01 1.50624667e-02 0.00000000e+00\n",
      " 0.00000000e+00 0.00000000e+00 9.00958058e-02 0.00000000e+00\n",
      " 0.00000000e+00 0.00000000e+00 0.00000000e+00 9.17086937e-02\n",
      " 8.08462779e-02 0.00000000e+00 6.58963088e-04 1.96252488e-01\n",
      " 2.44783682e-01 0.00000000e+00 0.00000000e+00 2.54786303e-01\n",
      " 0.00000000e+00 1.09120417e-02 7.05846065e-02 3.40455053e-02\n",
      " 0.00000000e+00 1.92204379e-01 0.00000000e+00 6.55800099e-02\n",
      " 5.38733345e-03 0.00000000e+00 8.62412930e-03 1.55841012e-02\n",
      " 0.00000000e+00 6.27319338e-03 0.00000000e+00 4.53835381e-03\n",
      " 6.15284735e-03 0.00000000e+00 0.00000000e+00 5.13807766e-03\n",
      " 1.01308020e-01 1.50160486e-01 1.01364817e-01 0.00000000e+00]\n"
     ]
    }
   ],
   "source": [
    "for index, topic in enumerate(nmf_model.components_):\n",
    "    print(topic)"
   ]
  },
  {
   "cell_type": "code",
   "execution_count": 137,
   "metadata": {},
   "outputs": [
    {
     "name": "stdout",
     "output_type": "stream",
     "text": [
      "Top 5 words for topic 0\n",
      "['time', 'meds', 'people', 'know', 'help', 'like', 'feel', 'dont', 'just', 'im']\n",
      "Top 5 words for topic 1\n",
      "['years', 'sleep', 'medication', 'helps', 'meds', 'panic', 'disorder', 'bipolar', 'depression', 'anxiety']\n"
     ]
    }
   ],
   "source": [
    "for index, topic in enumerate(nmf_model.components_):\n",
    "    print(f\"Top 5 words for topic {index}\")\n",
    "    print([tfidvector.get_feature_names()[i] for i in topic.argsort()[-10:]])"
   ]
  },
  {
   "cell_type": "code",
   "execution_count": 138,
   "metadata": {},
   "outputs": [
    {
     "data": {
      "text/plain": [
       "array([[0.04473459, 0.00478087],\n",
       "       [0.08199283, 0.00330817],\n",
       "       [0.07671392, 0.00239955],\n",
       "       ...,\n",
       "       [0.        , 0.        ],\n",
       "       [0.02075811, 0.10072067],\n",
       "       [0.0159686 , 0.11553178]])"
      ]
     },
     "execution_count": 138,
     "metadata": {},
     "output_type": "execute_result"
    }
   ],
   "source": [
    "topic_results = nmf_model.transform(tfidf_matrix)\n",
    "topic_results"
   ]
  },
  {
   "cell_type": "code",
   "execution_count": 139,
   "metadata": {},
   "outputs": [
    {
     "data": {
      "text/plain": [
       "array([0, 0, 0, ..., 0, 1, 1], dtype=int64)"
      ]
     },
     "execution_count": 139,
     "metadata": {},
     "output_type": "execute_result"
    }
   ],
   "source": [
    "topic_results.argmax(axis=1)"
   ]
  },
  {
   "cell_type": "code",
   "execution_count": 140,
   "metadata": {},
   "outputs": [],
   "source": [
    "df_main[\"label\"] = topic_results.argmax(axis=1)"
   ]
  },
  {
   "cell_type": "code",
   "execution_count": 141,
   "metadata": {},
   "outputs": [
    {
     "name": "stdout",
     "output_type": "stream",
     "text": [
      "Believe me, I show you much more than anyone. I still have lots of work to do but I trust you completely. I hope you feel the same. You can share anything with me Li, no worries.\n",
      "\n",
      "\n",
      "Yes, I feel the exact same way. My family avoids me all ways/always now. I have no place in my family and no voice either. I now choose not to give them any info if at all possible. All they do now is hurt me and leave me out of all family functions and matters because I am not strong enough. This is the time you find your true family and friends. Facebook has helped me tremendously. I will not validate their behavior because it is so stereotypical. They choose to remain ignorant.\n",
      "\n",
      "\n",
      "I was hospitalized in May for the same reason. Ive dealt with the loneliness that comes with it. Unless you know someone who has struggled with it, its really hard for others to relate. Problem is, it adds to the emotional mudslide that plagues us. I completely understand where you are coming from.\n",
      "\n",
      "\n",
      "I feel like that and im hearing you loud okay just a while ago, only an hour or so, I wás feeling like there was nothing in this world who will ever understand my feelings. I caught it and held onto it and felt that if I didnt live it wouldnt matter. I felt so hopeless that nobody understands and to understand is to love and if I didnt have love what would I do? Die? Im too frightened every time I try. So its not working death wont work its not our time. So what did I love? I love the world and I want to be a part of its healing. It doesnt matter if people understand its enough that I do and the very few who know and love me understand, the rest dont matter. They are the sad ones cos they dont allow their minds to open and to accept that they maybe the ones harming us\n",
      "\n",
      "\n",
      "I had 9 rounds over 3.5 weeks two years ago. It saved my life. I have some trouble recalling words I need when Im anxious, but other than that I have no negative effects. Without ECT I wouldnt be able to be at university now as bipolar had effected my cognitive ability badly - ECT reversed that. I will definitely go back for more if I go downhill again. Research shows that ECT has an 80% success rate; that is, 80% of patients show significant improvement. Ultimately it is your decision. Dont be pushed one way or another. Only you can decide.\n",
      "\n",
      "\n"
     ]
    }
   ],
   "source": [
    "i = 5\n",
    "limit = 10\n",
    "for a in df_main.index:\n",
    "    \n",
    "    try:\n",
    "        print(df_main[df_main[\"label\"] == 0].loc[i, \"Comments Text\"])\n",
    "        print(\"\\n\")\n",
    "    except KeyError:\n",
    "        limit += 1\n",
    "    i += 1\n",
    "    if i == limit:\n",
    "        break\n"
   ]
  },
  {
   "cell_type": "code",
   "execution_count": 142,
   "metadata": {},
   "outputs": [
    {
     "name": "stdout",
     "output_type": "stream",
     "text": [
      "Im a *itch 24/7 and I am not on medication because I have no fking medical insurance for my bipolar, depression and anxiety so I have too deal with it myself and people around me, I cant stand who I am but I feel stuck like you, and hopeless\n",
      "\n",
      "\n",
      "Im awful at remembering to take mine. I miss one day and Im a mess. I miss two and I am completely unable to function. Anxiety induced rage is so awful..\n",
      "\n",
      "\n",
      "I too take Seroquel. It has done wonders for my sleep cycle and I now get the sleep I need. I also take a high dose of Effexor (antidepressant) and Buspar (for anxiety). This combination works well for me and this came to from years of trying other meds that didnt have the desired results. I suffer from bipolar 2, severe depression, and anxiety. The amount of medication seems excessive but maybe you can eliminate some if they arent helping you. Im not a Dr though so make sure you stop and start your meds with Drs guidance. Good luck to you and I hope this helps. Wishing you peace and happiness.\n",
      "\n",
      "\n",
      "Its always hard getting a proper diagnosis. Often there are those who have more than one diagnosis. My kids have adhd bipolar with sczophernic tendicies.I myself am bipolar anxiety and ptsd insomnia so I do take a lot of pills I like u have a lot of physical conditions as well for which I take meds. The important thing is to let each doctor know what you are taking. Also be proactive know medicine side effects read up on them it gets confusing but the more u knw about them the more its helps\n",
      "\n",
      "\n",
      "Its really just a matter of opinion. My therapist today said that theres two sides to depression, how you think, and the imbalance. Ive been on seroquel for 8 years and due to insomnia I too only get 2-4 hours of sleep without it which is the leading cause of my issues (depression, phobia related anxiety, ADD, GAD). His way of putting it is that the prescription helps you put on a different pair of glasses until you can handle the sun again on your own. I really liked that.\n",
      "\n",
      "\n"
     ]
    }
   ],
   "source": [
    "i = 15\n",
    "limit = 20\n",
    "for a in df_main.index:\n",
    "    try:\n",
    "        print(df_main[df_main[\"label\"] == 1].loc[i, \"Comments Text\"])\n",
    "        print(\"\\n\")\n",
    "    except KeyError:\n",
    "        limit += 1\n",
    "    i += 1\n",
    "    if i == limit:\n",
    "        break\n"
   ]
  },
  {
   "cell_type": "code",
   "execution_count": 143,
   "metadata": {},
   "outputs": [
    {
     "data": {
      "text/plain": [
       "<bound method NDFrame.head of                                           Comments Text  label\n",
       "0     So, when you ask what the two illnesses are......      0\n",
       "1     In addition, people with BPD quite often have ...      0\n",
       "2     Borderline Personality Disorder, like all othe...      0\n",
       "3     LONG ANSWER: Bipolar disease is caused by a ch...      1\n",
       "4     Well think of bipolar as a rollar coaster you ...      0\n",
       "...                                                 ...    ...\n",
       "7140  Please contact SADAG (south African depression...      1\n",
       "7141  It gave me severe ataxia. (ataxia = People wit...      0\n",
       "7142  I have. Caused muscles to tense up swelling an...      0\n",
       "7143  Lamictal is my miracle med.Only took me 26 yea...      1\n",
       "7144  I take Wellbutrin, topamax, and buspar (antide...      1\n",
       "\n",
       "[7145 rows x 2 columns]>"
      ]
     },
     "execution_count": 143,
     "metadata": {},
     "output_type": "execute_result"
    }
   ],
   "source": [
    "df_main.head"
   ]
  },
  {
   "cell_type": "code",
   "execution_count": 144,
   "metadata": {},
   "outputs": [],
   "source": [
    "def view_df(df_main=df_main, step=10, batch=1, cluster=0 ):\n",
    "    batch = batch - 1\n",
    "    s = step * batch \n",
    "    limit = s + step\n",
    "    i = 0\n",
    "    for a in df_main[df_main[\"label\"] == cluster].index:\n",
    "        if i >= s:\n",
    "            print(df_main[df_main[\"label\"] == cluster].loc[a, \"Comments Text\"])\n",
    "            print(\"\\n\")\n",
    "        i += 1\n",
    "        if i >= limit:\n",
    "            break"
   ]
  },
  {
   "cell_type": "code",
   "execution_count": 145,
   "metadata": {},
   "outputs": [
    {
     "name": "stdout",
     "output_type": "stream",
     "text": [
      "So, when you ask what the two illnesses are...theyre similar in that they tend to have moodiness involved, impulsivity and self-damaging behaviors for compensatory measures. Otherwise, theyre not really that similar, but they do seem to \"like\" one another and often show up in the same person...making their lives chaotic, difficult, dysfunctional, and intense. So, if your friend is concerned that they may have one (or both) of these illnesses, they should not be ashamed. Its definitely not their fault. They should, instead, get help from a professional...and INSIST that they are treated appropriately with the correct types of therapy and medication.\n",
      "\n",
      "\n",
      "In addition, people with BPD quite often have a weak self concept. They dont always know who they really are deep down inside. They may always feel like theres something missing or something wrong with them intrinsically. This can cause periods of dissociation and difficulty in maintaining a healthy sense of self esteem. They may have a weak value system (or one that is missing entirely) or find that they have a difficult time adhering to whatever value system they do have. Since theres a real issue with trusting and black/white thinking, they dont always trust in their own decisions and may do things to get people to \"like\" them or not leave them that would be against their value system normally, and think that they (themselves) are terrible/bad/evil people for doing it later. They often take their mistakes in life much more seriously than other people. A \"normal\" person may make the same mistake and feel bad about it, but its unlikely that they will see themselves as terrible/bad/evil for having made the mistake. Oftentimes, a person with BPD would make that mistake and internalize it as a personal failure...that it happened because they (themselves) are awful/bad/wrong. This means that their self concept is much more fluid than \"normal\" people. Now, please keep in mind that not all BPD sufferers have every single one of these symptoms. There are definitely other symptoms that can be included in the diagnosis, but this is a pretty good start and the most common symptoms sufferers may face. People with BPD need intense therapy because they must change how they see themselves and the world around them (having a more mature, realistic viewpoint of the world that isnt all black or all white), rebuild value systems and self concepts that may be missing/aberrant, build the ability to trust others/self, and learn coping mechanisms. DBT (Dialectic Behavioral Therapy) was developed for BPD sufferers initially and has shown some positive results for sufferers who adhere to the techniques in their lives. Heres the thing, too. Its fairly common for Bipolar and BPD to be comorbid in a person (meaning they have both at the same time). We dont necessarily know if theres a genetic link between them, but we are beginning to think thats possible. A person suffering from both at the same time (untreated) would tend to be extremely emotional, moody, hypersensitive to criticism, untrusting, self-damaging, with highs and lows in behavior that make their lives (and the lives of those who love them) quite difficult. They are chaotic because their brain isnt working correctly due to chemical imbalances and, at the same time, their perception of themselves, other people and the world is one based on distrust and fear of being abandoned or rejected. They tend to have problems with love relationships, friendships, family relationships, and relationships with coworkers. Quite often, they end up being in the hospital for suicidal ideations or for mania (more often for depression than mania). Its not uncommon for them to end up in the system for some time before they get a proper and correct diagnosis (and a good treatment plan). They may get kicked out of the system early with a misdiagnosis which leads to poor management of symptoms and relapsing.\n",
      "\n",
      "\n",
      "Borderline Personality Disorder, like all other personality disorders, is an abnormal way of perceiving and interacting with the world. Think of it as having a dirty filter that the sufferer sees the world through constantly. We do not believe it is caused by chemical imbalances in the brain, but its possible that some of the symptoms might because medication *can* help some sufferers (but doesnt help everyone). Because they perceive things incorrectly, they often react inappropriately to situations that occur. People with BPD typically (not always as there is some room for deviation) have problems with emotional regulation and may react incorrectly to unexpected situations that occur. They may be perceived by others as being moody and reactive. They often have problems with trusting other people. Its believed this occurs because of unhealthy childhood experiences with parents, caregivers, teachers, and peers. However, there may also be a genetic propensity for people to have BPD as well. Regardless, they tend to have short-lived, intense relationships with lovers where they cling one minute and push away the next. They often have issues with infidelity due to a fear that they will be abandoned. Theres a real fear of abandonment and rejection. They tend to have black and white thinking (things are all wrong or all good) and that means they often either idealize or villainize their lovers, depending on their mood. This leaves the lover often feelling like they dont really know whats going on or where they stand in the relationship. One minute, the lover is being adored and the next, they are being pushed away. If theres infidelity or other types of self-damaging, risky behavior occurring, the lover may eventually get fed up. Because of this behavior and their intense lack of trust, quite often...the sufferer does cause their lover to leave them. This, of course, reinforces their belief that they will always be abandoned, left, and/or alone...and the cycle of clinging/pushing away starts again with a new person usually quite soon afterward. It should be noted...This black and white thinking tends to color their perception and behavior in regards to themselves, their self esteem, their self concept, and the world around them. Quite often, they are hypersensitive to criticism (or even perceived criticism). This goes back to that deep seeded fear of being rejected or abandoned. More than likely, they lived in a household situation with a parent or caregiver who would...one minute seemingly dote on the child and the next, without obvious reason...push the child away. Inconsistent, inattentive, cold, neglectful or absentee parenting seems to be a big part of the reason a person with BPD MAY have had it develop. Since we learn to trust from the first people in our lives (usually, our parents)....if a parent proves to be untrustworthy, absent, cold, or inconsistent with affection/punishment...a child may learn that they cant trust anyone. Deep down, people with BPD dont always trust themselves, either. Because they tend to have very black and white thinking, they dont always handle situations very well. This \"just world\" concept where they seem to think that \"good things happen to good people and bad things happen to bad people\" can cause them to see themselves as bad/evil/wrong if something bad happens to them, even things they cant control. In addition, they often have feelings of intense anger if things dont go as they expected, especially if it deals with other people. Their expectations of other people are usually unrealistic (because their expectations of themselves and the world are unrealistic generally.) They may get physically violent or abusive when things dont go the way they expected. During a period of devaluation of their love partner, they may become violent or abusive (note: this doesnt happen with every BPD sufferer, but it is a common enough occurrence that it should be said). They have intense changes in feelings and react quickly to situations without always thinking things through. They can be self-damaging and impulsive. This is where people get it confused with Bipolar disease because Bipolar tends to cause highs and lows and emotional reactivity during those periods. People with BPD have this issue all the time, however...not just when they are experiencing a disease relapse from one extreme or the other.\n",
      "\n",
      "\n",
      "Well think of bipolar as a rollar coaster you have high and low peaks where your mood can either rapidly alternate up and down or have the longwr lasting shifts. Ups that last for days ect. Depression and anger are two of the most common. Now as for borderline personality , its more like a tilt a wirl. Your moods can go secerap directions and rapidly , impulsivness is a major part of it as well. Not making sound judgement and just doing. Not to mention reations to situations that are commonly deemed inappropriate. I myself suffer from both. And it took me along time to become stable. And somedays i still struggle with it.\n",
      "\n",
      "\n",
      "Believe me, I show you much more than anyone. I still have lots of work to do but I trust you completely. I hope you feel the same. You can share anything with me Li, no worries.\n",
      "\n",
      "\n",
      "Yes, I feel the exact same way. My family avoids me all ways/always now. I have no place in my family and no voice either. I now choose not to give them any info if at all possible. All they do now is hurt me and leave me out of all family functions and matters because I am not strong enough. This is the time you find your true family and friends. Facebook has helped me tremendously. I will not validate their behavior because it is so stereotypical. They choose to remain ignorant.\n",
      "\n",
      "\n",
      "I was hospitalized in May for the same reason. Ive dealt with the loneliness that comes with it. Unless you know someone who has struggled with it, its really hard for others to relate. Problem is, it adds to the emotional mudslide that plagues us. I completely understand where you are coming from.\n",
      "\n",
      "\n",
      "I feel like that and im hearing you loud okay just a while ago, only an hour or so, I wás feeling like there was nothing in this world who will ever understand my feelings. I caught it and held onto it and felt that if I didnt live it wouldnt matter. I felt so hopeless that nobody understands and to understand is to love and if I didnt have love what would I do? Die? Im too frightened every time I try. So its not working death wont work its not our time. So what did I love? I love the world and I want to be a part of its healing. It doesnt matter if people understand its enough that I do and the very few who know and love me understand, the rest dont matter. They are the sad ones cos they dont allow their minds to open and to accept that they maybe the ones harming us\n",
      "\n",
      "\n",
      "I had 9 rounds over 3.5 weeks two years ago. It saved my life. I have some trouble recalling words I need when Im anxious, but other than that I have no negative effects. Without ECT I wouldnt be able to be at university now as bipolar had effected my cognitive ability badly - ECT reversed that. I will definitely go back for more if I go downhill again. Research shows that ECT has an 80% success rate; that is, 80% of patients show significant improvement. Ultimately it is your decision. Dont be pushed one way or another. Only you can decide.\n",
      "\n",
      "\n",
      "No, but I have seriously thought about having it. I dont know, maybe desperation. Have discussed it with the psychiatrist off and on...do not know\n",
      "\n",
      "\n"
     ]
    }
   ],
   "source": [
    "view_df()"
   ]
  },
  {
   "cell_type": "code",
   "execution_count": 146,
   "metadata": {},
   "outputs": [
    {
     "name": "stdout",
     "output_type": "stream",
     "text": [
      "Hurtful question..n alot of insensitive comments. Its not like we can help it. So on top of hereditary mental health issues...i have to be forever single? That works wonders on depression n anxiety. Thanks. :(\n",
      "\n",
      "\n",
      "People with mental illness are jus like the next person. They jus have to take medicine. I have bipolar disorder and anxiety. A person learns to cope and people learn to be with them or give up on them.\n",
      "\n",
      "\n",
      "My boyfriend has bipolar anxiety and anger issues so yes\n",
      "\n",
      "\n",
      "No..I suffer from anxiety...and clinical depression...I live with it..and it would very hard to be involved with someone who has same problem.\n",
      "\n",
      "\n",
      "I am in a relationship with my same sex partner which suffers from bipolar. Myself with depression and anxiety disorder. Its extremely tedious 90% of the time with the unpredictability of his emotions and my anxiety having a blast off that.\n",
      "\n",
      "\n",
      "Shame i thought Id married someone kind and gentle. But after working non stop. Ending up taking coke to keep me going. I was banned from my house my buisness ended up in jail my choice to try and get help. The only one to stand by me was my daughter and she is only 12years old. Its hurts more than any thing. Yes I have depression and anxiety. But I hid it well. Broken hearted is a understatement. But if i can help anyone going thru the same i would\n",
      "\n",
      "\n",
      "My boyfriend and I both struggle with mental illness so when one is down and struggling, the other who knows all too well how hard it can be and is the support system. I have cptsd and he is agoraphobic with severe anxiety, so theyre both very different but we know we can always get through to the other side together\n",
      "\n",
      "\n",
      "Well, my wife is married to one (I suffer with depression, anxiety, and probably some other stuff), so Id be hypocritical to say no...\n",
      "\n",
      "\n",
      "Yes because I suffer from depression/anxiety disorder. If I dated anyone \"normal\" (whatever the hell that is) Id be bored.\n",
      "\n",
      "\n",
      "I have bipolar and my husband has severe anxiety. We celebrated our 13th wedding anniversary two days ago.\n",
      "\n",
      "\n"
     ]
    }
   ],
   "source": [
    "view_df(batch=2, cluster=1)"
   ]
  },
  {
   "cell_type": "code",
   "execution_count": 147,
   "metadata": {},
   "outputs": [
    {
     "name": "stdout",
     "output_type": "stream",
     "text": [
      "Yes I do and its terrifying, know matter how I try to explain, they see from clear glass, mine is cloudy!\n",
      "\n",
      "\n",
      "Michelle OSullivan Yes, I just started it in July. We are moving very slowly and it takes a lot of getting used to. She was the one who suggested I ask my brother to check in on me once in a while but I went about it all the wrong ways and got too emotional. Then when he told me that he wouldnt tell me what he wanted to say to her I got uncomfortable like I was going to be thrown under the bus and then he got angry and just bit my head off.\n",
      "\n",
      "\n",
      "He just upped my anti-depressant last week. They arent upping my lithium because the salt makes me constantly thirsty and I am a heart patient and have a fluid restriction. Ive tried every other drug and theyre either bad for my heart or they have horrible side effects. The therapy Im learning is supposed to help with BPD but they said it will be really hard and take a lot of time to change my behavior.\n",
      "\n",
      "\n",
      "My mom is one person who sets me off when Im agitated. I cant take being around her. And even when I tell her Im agitated and we should talk another time shell push until I snap and then make me feel guilty about it.\n",
      "\n",
      "\n",
      "A family session can be helpful, you need to be ready for that though. Having a family session may allow for them to gain an improved understanding. Of your symptoms and moods. This may also allow for you tho better understand what they are having difficulty with I relating to you, not as one weigh mi rather as the family you are. You are working already ight sounds like on insight sand awareness, keep at it, try not tho be discouraged by the actions of other. Ultimately we are responsible for our own happiness... I struggle to with relationships so I appreciate what you are dealing with. Good luck.\n",
      "\n",
      "\n",
      "Yes iam like this at times but they seem to wind us up too ,its not all what we say , but I am careful at times how I speak or I dont speak at all thats easier lol , try and think before we speak ,but I know when we get stressed its hard and all sorts come tumbling out , stay strong\n",
      "\n",
      "\n",
      "My brother sent me one: Do not disturb. Im disturbed enough already.\n",
      "\n",
      "\n",
      "When I told a former employer about my bipolar, I felt like he was always nervous that I might fly into a rage at anytime. Im not even the angry kind of bipolar; Im really just the sad kind. But since that job, Ive learned to keep it to myself. Ive said that Ive had a bad cold, if I was too depressed to work...\n",
      "\n",
      "\n",
      "The only problem I have is when Im randomly put on a grave yard shift. That means I cant take my meds, as they make me so tired. I have 2 kids and cant just catch up on my sleep, and end up with anxiety and not being able to sleep, from not taking my meds. Being able to have a stable and normal shift all week makes my week 100x better than it would have if all shifts were different and there were random graves.\n",
      "\n",
      "\n",
      "My job is just crazy. You basically do 5 jobs in one and we put peoples lives on the line so we have to be 100% on our game. Its just really hard for my brain to bounce from position to position in the same day. I feel like I cant keep up and then I get anxious and start talking crap and saying things I dont really mean, Im just saying them to try to calm down.\n",
      "\n",
      "\n"
     ]
    }
   ],
   "source": [
    "view_df(batch=2, cluster=0)\n"
   ]
  },
  {
   "cell_type": "code",
   "execution_count": 148,
   "metadata": {},
   "outputs": [],
   "source": [
    "cluster_dictionary = {\n",
    "    0: \"anxiety and stress\", \n",
    "    1: \"depression , meds e.t.c\"\n",
    "}"
   ]
  },
  {
   "cell_type": "code",
   "execution_count": 149,
   "metadata": {},
   "outputs": [
    {
     "data": {
      "text/html": [
       "<div>\n",
       "<style scoped>\n",
       "    .dataframe tbody tr th:only-of-type {\n",
       "        vertical-align: middle;\n",
       "    }\n",
       "\n",
       "    .dataframe tbody tr th {\n",
       "        vertical-align: top;\n",
       "    }\n",
       "\n",
       "    .dataframe thead th {\n",
       "        text-align: right;\n",
       "    }\n",
       "</style>\n",
       "<table border=\"1\" class=\"dataframe\">\n",
       "  <thead>\n",
       "    <tr style=\"text-align: right;\">\n",
       "      <th></th>\n",
       "      <th>Comments Text</th>\n",
       "      <th>label</th>\n",
       "    </tr>\n",
       "  </thead>\n",
       "  <tbody>\n",
       "    <tr>\n",
       "      <th>0</th>\n",
       "      <td>So, when you ask what the two illnesses are......</td>\n",
       "      <td>0</td>\n",
       "    </tr>\n",
       "    <tr>\n",
       "      <th>1</th>\n",
       "      <td>In addition, people with BPD quite often have ...</td>\n",
       "      <td>0</td>\n",
       "    </tr>\n",
       "    <tr>\n",
       "      <th>2</th>\n",
       "      <td>Borderline Personality Disorder, like all othe...</td>\n",
       "      <td>0</td>\n",
       "    </tr>\n",
       "    <tr>\n",
       "      <th>4</th>\n",
       "      <td>Well think of bipolar as a rollar coaster you ...</td>\n",
       "      <td>0</td>\n",
       "    </tr>\n",
       "    <tr>\n",
       "      <th>5</th>\n",
       "      <td>Believe me, I show you much more than anyone. ...</td>\n",
       "      <td>0</td>\n",
       "    </tr>\n",
       "    <tr>\n",
       "      <th>...</th>\n",
       "      <td>...</td>\n",
       "      <td>...</td>\n",
       "    </tr>\n",
       "    <tr>\n",
       "      <th>7136</th>\n",
       "      <td>Even if u need to take 2 days off work- mental...</td>\n",
       "      <td>0</td>\n",
       "    </tr>\n",
       "    <tr>\n",
       "      <th>7138</th>\n",
       "      <td>Nothing wrong with that at all if it feels rig...</td>\n",
       "      <td>0</td>\n",
       "    </tr>\n",
       "    <tr>\n",
       "      <th>7139</th>\n",
       "      <td>Simonchini was found guilty of manslaughter ba...</td>\n",
       "      <td>0</td>\n",
       "    </tr>\n",
       "    <tr>\n",
       "      <th>7141</th>\n",
       "      <td>It gave me severe ataxia. (ataxia = People wit...</td>\n",
       "      <td>0</td>\n",
       "    </tr>\n",
       "    <tr>\n",
       "      <th>7142</th>\n",
       "      <td>I have. Caused muscles to tense up swelling an...</td>\n",
       "      <td>0</td>\n",
       "    </tr>\n",
       "  </tbody>\n",
       "</table>\n",
       "<p>5220 rows × 2 columns</p>\n",
       "</div>"
      ],
      "text/plain": [
       "                                          Comments Text  label\n",
       "0     So, when you ask what the two illnesses are......      0\n",
       "1     In addition, people with BPD quite often have ...      0\n",
       "2     Borderline Personality Disorder, like all othe...      0\n",
       "4     Well think of bipolar as a rollar coaster you ...      0\n",
       "5     Believe me, I show you much more than anyone. ...      0\n",
       "...                                                 ...    ...\n",
       "7136  Even if u need to take 2 days off work- mental...      0\n",
       "7138  Nothing wrong with that at all if it feels rig...      0\n",
       "7139  Simonchini was found guilty of manslaughter ba...      0\n",
       "7141  It gave me severe ataxia. (ataxia = People wit...      0\n",
       "7142  I have. Caused muscles to tense up swelling an...      0\n",
       "\n",
       "[5220 rows x 2 columns]"
      ]
     },
     "execution_count": 149,
     "metadata": {},
     "output_type": "execute_result"
    }
   ],
   "source": [
    "df_main[df_main[\"label\"] == 0]"
   ]
  },
  {
   "cell_type": "markdown",
   "metadata": {},
   "source": [
    "## Importing and cleaning the other dataset (the one that does not contain depression)"
   ]
  },
  {
   "cell_type": "code",
   "execution_count": 150,
   "metadata": {},
   "outputs": [
    {
     "data": {
      "text/html": [
       "<div>\n",
       "<style scoped>\n",
       "    .dataframe tbody tr th:only-of-type {\n",
       "        vertical-align: middle;\n",
       "    }\n",
       "\n",
       "    .dataframe tbody tr th {\n",
       "        vertical-align: top;\n",
       "    }\n",
       "\n",
       "    .dataframe thead th {\n",
       "        text-align: right;\n",
       "    }\n",
       "</style>\n",
       "<table border=\"1\" class=\"dataframe\">\n",
       "  <thead>\n",
       "    <tr style=\"text-align: right;\">\n",
       "      <th></th>\n",
       "      <th>text</th>\n",
       "      <th>label</th>\n",
       "    </tr>\n",
       "  </thead>\n",
       "  <tbody>\n",
       "    <tr>\n",
       "      <th>0</th>\n",
       "      <td>i didnt feel humiliated</td>\n",
       "      <td>0</td>\n",
       "    </tr>\n",
       "    <tr>\n",
       "      <th>1</th>\n",
       "      <td>i can go from feeling so hopeless to so damned...</td>\n",
       "      <td>0</td>\n",
       "    </tr>\n",
       "    <tr>\n",
       "      <th>2</th>\n",
       "      <td>im grabbing a minute to post i feel greedy wrong</td>\n",
       "      <td>3</td>\n",
       "    </tr>\n",
       "    <tr>\n",
       "      <th>3</th>\n",
       "      <td>i am ever feeling nostalgic about the fireplac...</td>\n",
       "      <td>2</td>\n",
       "    </tr>\n",
       "    <tr>\n",
       "      <th>4</th>\n",
       "      <td>i am feeling grouchy</td>\n",
       "      <td>3</td>\n",
       "    </tr>\n",
       "  </tbody>\n",
       "</table>\n",
       "</div>"
      ],
      "text/plain": [
       "                                                text  label\n",
       "0                            i didnt feel humiliated      0\n",
       "1  i can go from feeling so hopeless to so damned...      0\n",
       "2   im grabbing a minute to post i feel greedy wrong      3\n",
       "3  i am ever feeling nostalgic about the fireplac...      2\n",
       "4                               i am feeling grouchy      3"
      ]
     },
     "execution_count": 150,
     "metadata": {},
     "output_type": "execute_result"
    }
   ],
   "source": [
    "train = pd.read_csv(\"training.csv\")\n",
    "train.head()"
   ]
  },
  {
   "cell_type": "code",
   "execution_count": 151,
   "metadata": {},
   "outputs": [
    {
     "data": {
      "text/html": [
       "<div>\n",
       "<style scoped>\n",
       "    .dataframe tbody tr th:only-of-type {\n",
       "        vertical-align: middle;\n",
       "    }\n",
       "\n",
       "    .dataframe tbody tr th {\n",
       "        vertical-align: top;\n",
       "    }\n",
       "\n",
       "    .dataframe thead th {\n",
       "        text-align: right;\n",
       "    }\n",
       "</style>\n",
       "<table border=\"1\" class=\"dataframe\">\n",
       "  <thead>\n",
       "    <tr style=\"text-align: right;\">\n",
       "      <th></th>\n",
       "      <th>text</th>\n",
       "      <th>label</th>\n",
       "    </tr>\n",
       "  </thead>\n",
       "  <tbody>\n",
       "    <tr>\n",
       "      <th>0</th>\n",
       "      <td>i didnt feel humiliated</td>\n",
       "      <td>0</td>\n",
       "    </tr>\n",
       "    <tr>\n",
       "      <th>1</th>\n",
       "      <td>i can go from feeling so hopeless to so damned...</td>\n",
       "      <td>0</td>\n",
       "    </tr>\n",
       "    <tr>\n",
       "      <th>2</th>\n",
       "      <td>im grabbing a minute to post i feel greedy wrong</td>\n",
       "      <td>3</td>\n",
       "    </tr>\n",
       "    <tr>\n",
       "      <th>3</th>\n",
       "      <td>i am ever feeling nostalgic about the fireplac...</td>\n",
       "      <td>2</td>\n",
       "    </tr>\n",
       "    <tr>\n",
       "      <th>4</th>\n",
       "      <td>i am feeling grouchy</td>\n",
       "      <td>3</td>\n",
       "    </tr>\n",
       "  </tbody>\n",
       "</table>\n",
       "</div>"
      ],
      "text/plain": [
       "                                                text  label\n",
       "0                            i didnt feel humiliated      0\n",
       "1  i can go from feeling so hopeless to so damned...      0\n",
       "2   im grabbing a minute to post i feel greedy wrong      3\n",
       "3  i am ever feeling nostalgic about the fireplac...      2\n",
       "4                               i am feeling grouchy      3"
      ]
     },
     "execution_count": 151,
     "metadata": {},
     "output_type": "execute_result"
    }
   ],
   "source": [
    "labels = {0:'sadness', 1:'joy', 2:'love', 3:'anger', 4:'fear', 5:'surprise'}\n",
    "# train['description'] = train['label'].map(labels )\n",
    "train.head()"
   ]
  },
  {
   "cell_type": "markdown",
   "metadata": {},
   "source": [
    "# Clean Trained Imported. "
   ]
  },
  {
   "cell_type": "code",
   "execution_count": 152,
   "metadata": {},
   "outputs": [],
   "source": [
    "df_main.rename(columns={\"Comments Text\": \"text\"}, inplace=True)"
   ]
  },
  {
   "cell_type": "code",
   "execution_count": 153,
   "metadata": {},
   "outputs": [
    {
     "data": {
      "text/html": [
       "<div>\n",
       "<style scoped>\n",
       "    .dataframe tbody tr th:only-of-type {\n",
       "        vertical-align: middle;\n",
       "    }\n",
       "\n",
       "    .dataframe tbody tr th {\n",
       "        vertical-align: top;\n",
       "    }\n",
       "\n",
       "    .dataframe thead th {\n",
       "        text-align: right;\n",
       "    }\n",
       "</style>\n",
       "<table border=\"1\" class=\"dataframe\">\n",
       "  <thead>\n",
       "    <tr style=\"text-align: right;\">\n",
       "      <th></th>\n",
       "      <th>text</th>\n",
       "      <th>label</th>\n",
       "    </tr>\n",
       "  </thead>\n",
       "  <tbody>\n",
       "    <tr>\n",
       "      <th>0</th>\n",
       "      <td>So, when you ask what the two illnesses are......</td>\n",
       "      <td>0</td>\n",
       "    </tr>\n",
       "    <tr>\n",
       "      <th>1</th>\n",
       "      <td>In addition, people with BPD quite often have ...</td>\n",
       "      <td>0</td>\n",
       "    </tr>\n",
       "    <tr>\n",
       "      <th>2</th>\n",
       "      <td>Borderline Personality Disorder, like all othe...</td>\n",
       "      <td>0</td>\n",
       "    </tr>\n",
       "    <tr>\n",
       "      <th>3</th>\n",
       "      <td>LONG ANSWER: Bipolar disease is caused by a ch...</td>\n",
       "      <td>1</td>\n",
       "    </tr>\n",
       "    <tr>\n",
       "      <th>4</th>\n",
       "      <td>Well think of bipolar as a rollar coaster you ...</td>\n",
       "      <td>0</td>\n",
       "    </tr>\n",
       "  </tbody>\n",
       "</table>\n",
       "</div>"
      ],
      "text/plain": [
       "                                                text  label\n",
       "0  So, when you ask what the two illnesses are......      0\n",
       "1  In addition, people with BPD quite often have ...      0\n",
       "2  Borderline Personality Disorder, like all othe...      0\n",
       "3  LONG ANSWER: Bipolar disease is caused by a ch...      1\n",
       "4  Well think of bipolar as a rollar coaster you ...      0"
      ]
     },
     "execution_count": 153,
     "metadata": {},
     "output_type": "execute_result"
    }
   ],
   "source": [
    "df_main.head()"
   ]
  },
  {
   "cell_type": "code",
   "execution_count": 154,
   "metadata": {},
   "outputs": [
    {
     "data": {
      "text/html": [
       "<div>\n",
       "<style scoped>\n",
       "    .dataframe tbody tr th:only-of-type {\n",
       "        vertical-align: middle;\n",
       "    }\n",
       "\n",
       "    .dataframe tbody tr th {\n",
       "        vertical-align: top;\n",
       "    }\n",
       "\n",
       "    .dataframe thead th {\n",
       "        text-align: right;\n",
       "    }\n",
       "</style>\n",
       "<table border=\"1\" class=\"dataframe\">\n",
       "  <thead>\n",
       "    <tr style=\"text-align: right;\">\n",
       "      <th></th>\n",
       "      <th>text</th>\n",
       "      <th>label</th>\n",
       "    </tr>\n",
       "  </thead>\n",
       "  <tbody>\n",
       "    <tr>\n",
       "      <th>0</th>\n",
       "      <td>So, when you ask what the two illnesses are......</td>\n",
       "      <td>0</td>\n",
       "    </tr>\n",
       "    <tr>\n",
       "      <th>1</th>\n",
       "      <td>In addition, people with BPD quite often have ...</td>\n",
       "      <td>0</td>\n",
       "    </tr>\n",
       "    <tr>\n",
       "      <th>2</th>\n",
       "      <td>Borderline Personality Disorder, like all othe...</td>\n",
       "      <td>0</td>\n",
       "    </tr>\n",
       "    <tr>\n",
       "      <th>4</th>\n",
       "      <td>Well think of bipolar as a rollar coaster you ...</td>\n",
       "      <td>0</td>\n",
       "    </tr>\n",
       "    <tr>\n",
       "      <th>5</th>\n",
       "      <td>Believe me, I show you much more than anyone. ...</td>\n",
       "      <td>0</td>\n",
       "    </tr>\n",
       "  </tbody>\n",
       "</table>\n",
       "</div>"
      ],
      "text/plain": [
       "                                                text  label\n",
       "0  So, when you ask what the two illnesses are......      0\n",
       "1  In addition, people with BPD quite often have ...      0\n",
       "2  Borderline Personality Disorder, like all othe...      0\n",
       "4  Well think of bipolar as a rollar coaster you ...      0\n",
       "5  Believe me, I show you much more than anyone. ...      0"
      ]
     },
     "execution_count": 154,
     "metadata": {},
     "output_type": "execute_result"
    }
   ],
   "source": [
    "df_depression = df_main[df_main[\"label\"] == 0]\n",
    "df_depression.head()"
   ]
  },
  {
   "cell_type": "code",
   "execution_count": 155,
   "metadata": {},
   "outputs": [
    {
     "data": {
      "text/html": [
       "<div>\n",
       "<style scoped>\n",
       "    .dataframe tbody tr th:only-of-type {\n",
       "        vertical-align: middle;\n",
       "    }\n",
       "\n",
       "    .dataframe tbody tr th {\n",
       "        vertical-align: top;\n",
       "    }\n",
       "\n",
       "    .dataframe thead th {\n",
       "        text-align: right;\n",
       "    }\n",
       "</style>\n",
       "<table border=\"1\" class=\"dataframe\">\n",
       "  <thead>\n",
       "    <tr style=\"text-align: right;\">\n",
       "      <th></th>\n",
       "      <th>text</th>\n",
       "      <th>label</th>\n",
       "    </tr>\n",
       "  </thead>\n",
       "  <tbody>\n",
       "    <tr>\n",
       "      <th>2</th>\n",
       "      <td>im grabbing a minute to post i feel greedy wrong</td>\n",
       "      <td>3</td>\n",
       "    </tr>\n",
       "    <tr>\n",
       "      <th>3</th>\n",
       "      <td>i am ever feeling nostalgic about the fireplac...</td>\n",
       "      <td>2</td>\n",
       "    </tr>\n",
       "    <tr>\n",
       "      <th>4</th>\n",
       "      <td>i am feeling grouchy</td>\n",
       "      <td>3</td>\n",
       "    </tr>\n",
       "    <tr>\n",
       "      <th>6</th>\n",
       "      <td>ive been taking or milligrams or times recomme...</td>\n",
       "      <td>5</td>\n",
       "    </tr>\n",
       "    <tr>\n",
       "      <th>7</th>\n",
       "      <td>i feel as confused about life as a teenager or...</td>\n",
       "      <td>4</td>\n",
       "    </tr>\n",
       "  </tbody>\n",
       "</table>\n",
       "</div>"
      ],
      "text/plain": [
       "                                                text  label\n",
       "2   im grabbing a minute to post i feel greedy wrong      3\n",
       "3  i am ever feeling nostalgic about the fireplac...      2\n",
       "4                               i am feeling grouchy      3\n",
       "6  ive been taking or milligrams or times recomme...      5\n",
       "7  i feel as confused about life as a teenager or...      4"
      ]
     },
     "execution_count": 155,
     "metadata": {},
     "output_type": "execute_result"
    }
   ],
   "source": [
    "df_without_sadness = train[train[\"label\"] != 0]\n",
    "df_without_sadness.head()"
   ]
  },
  {
   "cell_type": "code",
   "execution_count": 156,
   "metadata": {},
   "outputs": [
    {
     "data": {
      "text/plain": [
       "11334"
      ]
     },
     "execution_count": 156,
     "metadata": {},
     "output_type": "execute_result"
    }
   ],
   "source": [
    "len(df_without_sadness)"
   ]
  },
  {
   "cell_type": "code",
   "execution_count": 157,
   "metadata": {},
   "outputs": [
    {
     "name": "stderr",
     "output_type": "stream",
     "text": [
      "C:\\Users\\HP\\AppData\\Local\\Temp\\ipykernel_9832\\3251619283.py:1: SettingWithCopyWarning: \n",
      "A value is trying to be set on a copy of a slice from a DataFrame\n",
      "\n",
      "See the caveats in the documentation: https://pandas.pydata.org/pandas-docs/stable/user_guide/indexing.html#returning-a-view-versus-a-copy\n",
      "  df_without_sadness.drop(\"label\", inplace=True, axis=1)\n"
     ]
    },
    {
     "data": {
      "text/html": [
       "<div>\n",
       "<style scoped>\n",
       "    .dataframe tbody tr th:only-of-type {\n",
       "        vertical-align: middle;\n",
       "    }\n",
       "\n",
       "    .dataframe tbody tr th {\n",
       "        vertical-align: top;\n",
       "    }\n",
       "\n",
       "    .dataframe thead th {\n",
       "        text-align: right;\n",
       "    }\n",
       "</style>\n",
       "<table border=\"1\" class=\"dataframe\">\n",
       "  <thead>\n",
       "    <tr style=\"text-align: right;\">\n",
       "      <th></th>\n",
       "      <th>text</th>\n",
       "    </tr>\n",
       "  </thead>\n",
       "  <tbody>\n",
       "    <tr>\n",
       "      <th>2</th>\n",
       "      <td>im grabbing a minute to post i feel greedy wrong</td>\n",
       "    </tr>\n",
       "    <tr>\n",
       "      <th>3</th>\n",
       "      <td>i am ever feeling nostalgic about the fireplac...</td>\n",
       "    </tr>\n",
       "    <tr>\n",
       "      <th>4</th>\n",
       "      <td>i am feeling grouchy</td>\n",
       "    </tr>\n",
       "    <tr>\n",
       "      <th>6</th>\n",
       "      <td>ive been taking or milligrams or times recomme...</td>\n",
       "    </tr>\n",
       "    <tr>\n",
       "      <th>7</th>\n",
       "      <td>i feel as confused about life as a teenager or...</td>\n",
       "    </tr>\n",
       "  </tbody>\n",
       "</table>\n",
       "</div>"
      ],
      "text/plain": [
       "                                                text\n",
       "2   im grabbing a minute to post i feel greedy wrong\n",
       "3  i am ever feeling nostalgic about the fireplac...\n",
       "4                               i am feeling grouchy\n",
       "6  ive been taking or milligrams or times recomme...\n",
       "7  i feel as confused about life as a teenager or..."
      ]
     },
     "execution_count": 157,
     "metadata": {},
     "output_type": "execute_result"
    }
   ],
   "source": [
    "df_without_sadness.drop(\"label\", inplace=True, axis=1)\n",
    "df_without_sadness.head()"
   ]
  },
  {
   "cell_type": "code",
   "execution_count": 158,
   "metadata": {},
   "outputs": [
    {
     "name": "stderr",
     "output_type": "stream",
     "text": [
      "C:\\Users\\HP\\AppData\\Local\\Temp\\ipykernel_9832\\534804070.py:1: SettingWithCopyWarning: \n",
      "A value is trying to be set on a copy of a slice from a DataFrame.\n",
      "Try using .loc[row_indexer,col_indexer] = value instead\n",
      "\n",
      "See the caveats in the documentation: https://pandas.pydata.org/pandas-docs/stable/user_guide/indexing.html#returning-a-view-versus-a-copy\n",
      "  df_without_sadness[\"label\"] = 1\n"
     ]
    },
    {
     "data": {
      "text/html": [
       "<div>\n",
       "<style scoped>\n",
       "    .dataframe tbody tr th:only-of-type {\n",
       "        vertical-align: middle;\n",
       "    }\n",
       "\n",
       "    .dataframe tbody tr th {\n",
       "        vertical-align: top;\n",
       "    }\n",
       "\n",
       "    .dataframe thead th {\n",
       "        text-align: right;\n",
       "    }\n",
       "</style>\n",
       "<table border=\"1\" class=\"dataframe\">\n",
       "  <thead>\n",
       "    <tr style=\"text-align: right;\">\n",
       "      <th></th>\n",
       "      <th>text</th>\n",
       "      <th>label</th>\n",
       "    </tr>\n",
       "  </thead>\n",
       "  <tbody>\n",
       "    <tr>\n",
       "      <th>2</th>\n",
       "      <td>im grabbing a minute to post i feel greedy wrong</td>\n",
       "      <td>1</td>\n",
       "    </tr>\n",
       "    <tr>\n",
       "      <th>3</th>\n",
       "      <td>i am ever feeling nostalgic about the fireplac...</td>\n",
       "      <td>1</td>\n",
       "    </tr>\n",
       "    <tr>\n",
       "      <th>4</th>\n",
       "      <td>i am feeling grouchy</td>\n",
       "      <td>1</td>\n",
       "    </tr>\n",
       "    <tr>\n",
       "      <th>6</th>\n",
       "      <td>ive been taking or milligrams or times recomme...</td>\n",
       "      <td>1</td>\n",
       "    </tr>\n",
       "    <tr>\n",
       "      <th>7</th>\n",
       "      <td>i feel as confused about life as a teenager or...</td>\n",
       "      <td>1</td>\n",
       "    </tr>\n",
       "  </tbody>\n",
       "</table>\n",
       "</div>"
      ],
      "text/plain": [
       "                                                text  label\n",
       "2   im grabbing a minute to post i feel greedy wrong      1\n",
       "3  i am ever feeling nostalgic about the fireplac...      1\n",
       "4                               i am feeling grouchy      1\n",
       "6  ive been taking or milligrams or times recomme...      1\n",
       "7  i feel as confused about life as a teenager or...      1"
      ]
     },
     "execution_count": 158,
     "metadata": {},
     "output_type": "execute_result"
    }
   ],
   "source": [
    "df_without_sadness[\"label\"] = 1\n",
    "df_without_sadness.head()"
   ]
  },
  {
   "cell_type": "code",
   "execution_count": 159,
   "metadata": {},
   "outputs": [
    {
     "data": {
      "text/plain": [
       "16554"
      ]
     },
     "execution_count": 159,
     "metadata": {},
     "output_type": "execute_result"
    }
   ],
   "source": [
    "all_df = pd.concat([df_without_sadness, df_depression], ignore_index=True)\n",
    "len(all_df)"
   ]
  },
  {
   "cell_type": "code",
   "execution_count": 160,
   "metadata": {},
   "outputs": [
    {
     "data": {
      "text/plain": [
       "array([1, 0], dtype=int64)"
      ]
     },
     "execution_count": 160,
     "metadata": {},
     "output_type": "execute_result"
    }
   ],
   "source": [
    "all_df[\"label\"].unique()"
   ]
  },
  {
   "cell_type": "code",
   "execution_count": 161,
   "metadata": {},
   "outputs": [
    {
     "data": {
      "text/plain": [
       "0        1\n",
       "1        1\n",
       "2        1\n",
       "3        1\n",
       "4        1\n",
       "        ..\n",
       "16549    0\n",
       "16550    0\n",
       "16551    0\n",
       "16552    0\n",
       "16553    0\n",
       "Name: label, Length: 16554, dtype: int64"
      ]
     },
     "execution_count": 161,
     "metadata": {},
     "output_type": "execute_result"
    }
   ],
   "source": [
    "df_label = all_df[\"label\"]\n",
    "df_label"
   ]
  },
  {
   "cell_type": "code",
   "execution_count": 162,
   "metadata": {},
   "outputs": [
    {
     "data": {
      "text/plain": [
       "16554"
      ]
     },
     "execution_count": 162,
     "metadata": {},
     "output_type": "execute_result"
    }
   ],
   "source": [
    "df_features = all_df.drop(\"label\", axis=1)\n",
    "len(df_features)"
   ]
  },
  {
   "cell_type": "code",
   "execution_count": 163,
   "metadata": {},
   "outputs": [
    {
     "data": {
      "text/html": [
       "<div>\n",
       "<style scoped>\n",
       "    .dataframe tbody tr th:only-of-type {\n",
       "        vertical-align: middle;\n",
       "    }\n",
       "\n",
       "    .dataframe tbody tr th {\n",
       "        vertical-align: top;\n",
       "    }\n",
       "\n",
       "    .dataframe thead th {\n",
       "        text-align: right;\n",
       "    }\n",
       "</style>\n",
       "<table border=\"1\" class=\"dataframe\">\n",
       "  <thead>\n",
       "    <tr style=\"text-align: right;\">\n",
       "      <th></th>\n",
       "      <th>text</th>\n",
       "    </tr>\n",
       "  </thead>\n",
       "  <tbody>\n",
       "    <tr>\n",
       "      <th>0</th>\n",
       "      <td>im grabbing a minute to post i feel greedy wrong</td>\n",
       "    </tr>\n",
       "    <tr>\n",
       "      <th>1</th>\n",
       "      <td>i am ever feeling nostalgic about the fireplac...</td>\n",
       "    </tr>\n",
       "    <tr>\n",
       "      <th>2</th>\n",
       "      <td>i am feeling grouchy</td>\n",
       "    </tr>\n",
       "    <tr>\n",
       "      <th>3</th>\n",
       "      <td>ive been taking or milligrams or times recomme...</td>\n",
       "    </tr>\n",
       "    <tr>\n",
       "      <th>4</th>\n",
       "      <td>i feel as confused about life as a teenager or...</td>\n",
       "    </tr>\n",
       "  </tbody>\n",
       "</table>\n",
       "</div>"
      ],
      "text/plain": [
       "                                                text\n",
       "0   im grabbing a minute to post i feel greedy wrong\n",
       "1  i am ever feeling nostalgic about the fireplac...\n",
       "2                               i am feeling grouchy\n",
       "3  ive been taking or milligrams or times recomme...\n",
       "4  i feel as confused about life as a teenager or..."
      ]
     },
     "execution_count": 163,
     "metadata": {},
     "output_type": "execute_result"
    }
   ],
   "source": [
    "df_features.head()"
   ]
  },
  {
   "cell_type": "code",
   "execution_count": 164,
   "metadata": {},
   "outputs": [
    {
     "data": {
      "text/plain": [
       "16554"
      ]
     },
     "execution_count": 164,
     "metadata": {},
     "output_type": "execute_result"
    }
   ],
   "source": [
    "len(df_label)"
   ]
  },
  {
   "cell_type": "code",
   "execution_count": 165,
   "metadata": {},
   "outputs": [],
   "source": [
    "X_train, X_test, y_train, y_test = train_test_split(df_features, df_label)"
   ]
  },
  {
   "cell_type": "code",
   "execution_count": 166,
   "metadata": {},
   "outputs": [
    {
     "data": {
      "text/plain": [
       "12415"
      ]
     },
     "execution_count": 166,
     "metadata": {},
     "output_type": "execute_result"
    }
   ],
   "source": [
    "len(X_train)"
   ]
  },
  {
   "cell_type": "code",
   "execution_count": 167,
   "metadata": {},
   "outputs": [
    {
     "data": {
      "text/plain": [
       "pandas.core.frame.DataFrame"
      ]
     },
     "execution_count": 167,
     "metadata": {},
     "output_type": "execute_result"
    }
   ],
   "source": [
    "type(X_test)"
   ]
  },
  {
   "cell_type": "code",
   "execution_count": 168,
   "metadata": {},
   "outputs": [
    {
     "data": {
      "text/plain": [
       "12415"
      ]
     },
     "execution_count": 168,
     "metadata": {},
     "output_type": "execute_result"
    }
   ],
   "source": [
    "len(y_train)"
   ]
  },
  {
   "cell_type": "code",
   "execution_count": 169,
   "metadata": {},
   "outputs": [
    {
     "data": {
      "text/plain": [
       "2873     1\n",
       "6771     1\n",
       "2051     1\n",
       "2573     1\n",
       "679      1\n",
       "        ..\n",
       "11320    1\n",
       "4900     1\n",
       "9205     1\n",
       "8609     1\n",
       "725      1\n",
       "Name: label, Length: 12415, dtype: int64"
      ]
     },
     "execution_count": 169,
     "metadata": {},
     "output_type": "execute_result"
    }
   ],
   "source": [
    "y_train"
   ]
  },
  {
   "cell_type": "code",
   "execution_count": 170,
   "metadata": {},
   "outputs": [],
   "source": [
    "X_train = X_train[\"text\"]\n",
    "X_test = X_test[\"text\"]"
   ]
  },
  {
   "cell_type": "markdown",
   "metadata": {},
   "source": [
    "## Start supervised training for the final model. "
   ]
  },
  {
   "cell_type": "code",
   "execution_count": 171,
   "metadata": {},
   "outputs": [],
   "source": [
    "t_vectorizer = TfidfVectorizer().fit(X_train)"
   ]
  },
  {
   "cell_type": "code",
   "execution_count": 172,
   "metadata": {},
   "outputs": [],
   "source": [
    "training_vector = t_vectorizer.transform(X_train)"
   ]
  },
  {
   "cell_type": "code",
   "execution_count": 173,
   "metadata": {},
   "outputs": [],
   "source": [
    "testing_vector = t_vectorizer.transform(X_test)"
   ]
  },
  {
   "cell_type": "markdown",
   "metadata": {},
   "source": []
  },
  {
   "cell_type": "code",
   "execution_count": 174,
   "metadata": {},
   "outputs": [],
   "source": [
    "from sklearn.ensemble import RandomForestClassifier\n",
    "clf = RandomForestClassifier()"
   ]
  },
  {
   "cell_type": "code",
   "execution_count": 175,
   "metadata": {},
   "outputs": [
    {
     "data": {
      "text/plain": [
       "17068"
      ]
     },
     "execution_count": 175,
     "metadata": {},
     "output_type": "execute_result"
    }
   ],
   "source": [
    "len(t_vectorizer.vocabulary_)"
   ]
  },
  {
   "cell_type": "code",
   "execution_count": 176,
   "metadata": {},
   "outputs": [
    {
     "data": {
      "text/html": [
       "<style>#sk-container-id-4 {color: black;background-color: white;}#sk-container-id-4 pre{padding: 0;}#sk-container-id-4 div.sk-toggleable {background-color: white;}#sk-container-id-4 label.sk-toggleable__label {cursor: pointer;display: block;width: 100%;margin-bottom: 0;padding: 0.3em;box-sizing: border-box;text-align: center;}#sk-container-id-4 label.sk-toggleable__label-arrow:before {content: \"▸\";float: left;margin-right: 0.25em;color: #696969;}#sk-container-id-4 label.sk-toggleable__label-arrow:hover:before {color: black;}#sk-container-id-4 div.sk-estimator:hover label.sk-toggleable__label-arrow:before {color: black;}#sk-container-id-4 div.sk-toggleable__content {max-height: 0;max-width: 0;overflow: hidden;text-align: left;background-color: #f0f8ff;}#sk-container-id-4 div.sk-toggleable__content pre {margin: 0.2em;color: black;border-radius: 0.25em;background-color: #f0f8ff;}#sk-container-id-4 input.sk-toggleable__control:checked~div.sk-toggleable__content {max-height: 200px;max-width: 100%;overflow: auto;}#sk-container-id-4 input.sk-toggleable__control:checked~label.sk-toggleable__label-arrow:before {content: \"▾\";}#sk-container-id-4 div.sk-estimator input.sk-toggleable__control:checked~label.sk-toggleable__label {background-color: #d4ebff;}#sk-container-id-4 div.sk-label input.sk-toggleable__control:checked~label.sk-toggleable__label {background-color: #d4ebff;}#sk-container-id-4 input.sk-hidden--visually {border: 0;clip: rect(1px 1px 1px 1px);clip: rect(1px, 1px, 1px, 1px);height: 1px;margin: -1px;overflow: hidden;padding: 0;position: absolute;width: 1px;}#sk-container-id-4 div.sk-estimator {font-family: monospace;background-color: #f0f8ff;border: 1px dotted black;border-radius: 0.25em;box-sizing: border-box;margin-bottom: 0.5em;}#sk-container-id-4 div.sk-estimator:hover {background-color: #d4ebff;}#sk-container-id-4 div.sk-parallel-item::after {content: \"\";width: 100%;border-bottom: 1px solid gray;flex-grow: 1;}#sk-container-id-4 div.sk-label:hover label.sk-toggleable__label {background-color: #d4ebff;}#sk-container-id-4 div.sk-serial::before {content: \"\";position: absolute;border-left: 1px solid gray;box-sizing: border-box;top: 0;bottom: 0;left: 50%;z-index: 0;}#sk-container-id-4 div.sk-serial {display: flex;flex-direction: column;align-items: center;background-color: white;padding-right: 0.2em;padding-left: 0.2em;position: relative;}#sk-container-id-4 div.sk-item {position: relative;z-index: 1;}#sk-container-id-4 div.sk-parallel {display: flex;align-items: stretch;justify-content: center;background-color: white;position: relative;}#sk-container-id-4 div.sk-item::before, #sk-container-id-4 div.sk-parallel-item::before {content: \"\";position: absolute;border-left: 1px solid gray;box-sizing: border-box;top: 0;bottom: 0;left: 50%;z-index: -1;}#sk-container-id-4 div.sk-parallel-item {display: flex;flex-direction: column;z-index: 1;position: relative;background-color: white;}#sk-container-id-4 div.sk-parallel-item:first-child::after {align-self: flex-end;width: 50%;}#sk-container-id-4 div.sk-parallel-item:last-child::after {align-self: flex-start;width: 50%;}#sk-container-id-4 div.sk-parallel-item:only-child::after {width: 0;}#sk-container-id-4 div.sk-dashed-wrapped {border: 1px dashed gray;margin: 0 0.4em 0.5em 0.4em;box-sizing: border-box;padding-bottom: 0.4em;background-color: white;}#sk-container-id-4 div.sk-label label {font-family: monospace;font-weight: bold;display: inline-block;line-height: 1.2em;}#sk-container-id-4 div.sk-label-container {text-align: center;}#sk-container-id-4 div.sk-container {/* jupyter's `normalize.less` sets `[hidden] { display: none; }` but bootstrap.min.css set `[hidden] { display: none !important; }` so we also need the `!important` here to be able to override the default hidden behavior on the sphinx rendered scikit-learn.org. See: https://github.com/scikit-learn/scikit-learn/issues/21755 */display: inline-block !important;position: relative;}#sk-container-id-4 div.sk-text-repr-fallback {display: none;}</style><div id=\"sk-container-id-4\" class=\"sk-top-container\"><div class=\"sk-text-repr-fallback\"><pre>RandomForestClassifier()</pre><b>In a Jupyter environment, please rerun this cell to show the HTML representation or trust the notebook. <br />On GitHub, the HTML representation is unable to render, please try loading this page with nbviewer.org.</b></div><div class=\"sk-container\" hidden><div class=\"sk-item\"><div class=\"sk-estimator sk-toggleable\"><input class=\"sk-toggleable__control sk-hidden--visually\" id=\"sk-estimator-id-4\" type=\"checkbox\" checked><label for=\"sk-estimator-id-4\" class=\"sk-toggleable__label sk-toggleable__label-arrow\">RandomForestClassifier</label><div class=\"sk-toggleable__content\"><pre>RandomForestClassifier()</pre></div></div></div></div></div>"
      ],
      "text/plain": [
       "RandomForestClassifier()"
      ]
     },
     "execution_count": 176,
     "metadata": {},
     "output_type": "execute_result"
    }
   ],
   "source": [
    "clf.fit(training_vector, y_train)"
   ]
  },
  {
   "cell_type": "code",
   "execution_count": 177,
   "metadata": {},
   "outputs": [
    {
     "data": {
      "text/plain": [
       "0.9565112345977289"
      ]
     },
     "execution_count": 177,
     "metadata": {},
     "output_type": "execute_result"
    }
   ],
   "source": [
    "acc = clf.score(testing_vector, y_test)\n",
    "acc"
   ]
  },
  {
   "cell_type": "code",
   "execution_count": 178,
   "metadata": {},
   "outputs": [
    {
     "data": {
      "text/plain": [
       "array([1, 1, 1, ..., 1, 1, 1], dtype=int64)"
      ]
     },
     "execution_count": 178,
     "metadata": {},
     "output_type": "execute_result"
    }
   ],
   "source": [
    "pred = clf.predict(testing_vector)\n",
    "pred"
   ]
  },
  {
   "cell_type": "code",
   "execution_count": 179,
   "metadata": {},
   "outputs": [],
   "source": [
    "def predict_category(s,  clf=clf):\n",
    "    s_vector = t_vectorizer.transform([s])\n",
    "    pred = clf.predict(s_vector)\n",
    "    return pred"
   ]
  },
  {
   "cell_type": "code",
   "execution_count": 180,
   "metadata": {},
   "outputs": [
    {
     "name": "stdout",
     "output_type": "stream",
     "text": [
      "[0]\n"
     ]
    }
   ],
   "source": [
    "a = predict_category(\"I need help\")\n",
    "print(a)"
   ]
  },
  {
   "cell_type": "code",
   "execution_count": 181,
   "metadata": {},
   "outputs": [
    {
     "data": {
      "text/plain": [
       "Text(89.18, 0.5, 'Predicted label ')"
      ]
     },
     "execution_count": 181,
     "metadata": {},
     "output_type": "execute_result"
    },
    {
     "data": {
      "image/png": "[encoded data removed]",
      "text/plain": [
       "<Figure size 432x288 with 1 Axes>"
      ]
     },
     "metadata": {},
     "output_type": "display_data"
    }
   ],
   "source": [
    "from sklearn.metrics import confusion_matrix\n",
    "\n",
    "mat = confusion_matrix(y_test, pred)\n",
    "sns.heatmap(mat.T, square=True, annot=True, fmt=\"d\", cbar=False,\n",
    "            xticklabels=y_test.unique(), yticklabels=y_test.unique())\n",
    "plt.xlabel(\"true label \")\n",
    "plt.ylabel(\"Predicted label \")"
   ]
  }
 ],
 "metadata": {
  "kernelspec": {
   "display_name": "Python 3.10.5 64-bit",
   "language": "python",
   "name": "python3"
  },
  "language_info": {
   "codemirror_mode": {
    "name": "ipython",
    "version": 3
   },
   "file_extension": ".py",
   "mimetype": "text/x-python",
   "name": "python",
   "nbconvert_exporter": "python",
   "pygments_lexer": "ipython3",
   "version": "3.10.5"
  },
  "orig_nbformat": 4,
  "vscode": {
   "interpreter": {
    "hash": "a9cff5a362bc38ef45d817ae74b1af54d6a076e3d773891282bce078b815ba34"
   }
  }
 },
 "nbformat": 4,
 "nbformat_minor": 2
}
